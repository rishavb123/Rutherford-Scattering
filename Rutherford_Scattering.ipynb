{
  "nbformat": 4,
  "nbformat_minor": 0,
  "metadata": {
    "colab": {
      "name": "Rutherford Scattering.ipynb",
      "provenance": [],
      "authorship_tag": "ABX9TyNRO8JZUgAOoxmQpTOPgzhe",
      "include_colab_link": true
    },
    "kernelspec": {
      "name": "python3",
      "display_name": "Python 3"
    }
  },
  "cells": [
    {
      "cell_type": "markdown",
      "metadata": {
        "id": "view-in-github",
        "colab_type": "text"
      },
      "source": [
        "<a href=\"https://colab.research.google.com/github/rishavb123/Rutherford-Scattering/blob/master/Rutherford_Scattering.ipynb\" target=\"_parent\"><img src=\"https://colab.research.google.com/assets/colab-badge.svg\" alt=\"Open In Colab\"/></a>"
      ]
    },
    {
      "cell_type": "markdown",
      "metadata": {
        "id": "CY-2ynB2Lj7r",
        "colab_type": "text"
      },
      "source": [
        "# Rutherford Scattering"
      ]
    },
    {
      "cell_type": "markdown",
      "metadata": {
        "id": "g4OXq24sMIRw",
        "colab_type": "text"
      },
      "source": [
        "Some imports"
      ]
    },
    {
      "cell_type": "code",
      "metadata": {
        "id": "hxYMDIhGG7ZW",
        "colab_type": "code",
        "colab": {}
      },
      "source": [
        "from math import sqrt, log, cos, sin, pi\n",
        "from random import random"
      ],
      "execution_count": 0,
      "outputs": []
    },
    {
      "cell_type": "markdown",
      "metadata": {
        "id": "1IdqXRQgMNDT",
        "colab_type": "text"
      },
      "source": [
        "Some constants"
      ]
    },
    {
      "cell_type": "code",
      "metadata": {
        "id": "PkZIsBvVMOPj",
        "colab_type": "code",
        "colab": {}
      },
      "source": [
        "Z = 79 # for gold\n",
        "e = 1.602e-19\n",
        "E = 7.7e6 * e\n",
        "epsilon0 = 8.854e-12\n",
        "a0 = 5.292e-11\n",
        "sigma = a0/100\n",
        "N = 1000000"
      ],
      "execution_count": 0,
      "outputs": []
    },
    {
      "cell_type": "markdown",
      "metadata": {
        "id": "zK_Ev-IAMc5v",
        "colab_type": "text"
      },
      "source": [
        "Define a random gaussian number generator"
      ]
    },
    {
      "cell_type": "code",
      "metadata": {
        "id": "DJgKwtCMMhFA",
        "colab_type": "code",
        "colab": {}
      },
      "source": [
        "def gaussian():\n",
        "    r = sqrt(-2 * sigma * sigma * log(1 - random()))\n",
        "    theta = 2 * pi * random()\n",
        "    x = r * cos(theta)\n",
        "    y = r * sin(theta)\n",
        "    return x, y"
      ],
      "execution_count": 0,
      "outputs": []
    },
    {
      "cell_type": "markdown",
      "metadata": {
        "id": "xS6uA-RsM05S",
        "colab_type": "text"
      },
      "source": [
        "Now, to count how many of these particles would be reflected by Rutherford Scattering."
      ]
    },
    {
      "cell_type": "code",
      "metadata": {
        "id": "CRa-B10wM56E",
        "colab_type": "code",
        "colab": {
          "base_uri": "https://localhost:8080/",
          "height": 35
        },
        "outputId": "e7c999c8-90b0-4af2-ebab-234fc171ab82"
      },
      "source": [
        "count = 0\n",
        "for i in range(N):\n",
        "    x, y = gaussian()\n",
        "    b = sqrt(x*x + y*y)\n",
        "    if b < Z * e * e / (2 * pi * epsilon0 * E):\n",
        "        count += 1\n",
        "\n",
        "print(count, \"particles were reflected out of\", N)"
      ],
      "execution_count": 7,
      "outputs": [
        {
          "output_type": "stream",
          "text": [
            "1529 particles were reflected out of 1000000\n"
          ],
          "name": "stdout"
        }
      ]
    }
  ]
}